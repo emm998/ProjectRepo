{
  "nbformat": 4,
  "nbformat_minor": 0,
  "metadata": {
    "colab": {
      "provenance": []
    },
    "kernelspec": {
      "name": "python3",
      "display_name": "Python 3"
    },
    "language_info": {
      "name": "python"
    }
  },
  "cells": [
    {
      "cell_type": "markdown",
      "source": [
        "Random Forest and Decision Tree Classifiers"
      ],
      "metadata": {
        "id": "xB6tn4VICqxX"
      }
    },
    {
      "cell_type": "code",
      "execution_count": 2,
      "metadata": {
        "colab": {
          "base_uri": "https://localhost:8080/"
        },
        "collapsed": true,
        "id": "FB-G0eBLcDID",
        "outputId": "b272c33a-5d08-4513-b893-18f504ab0cf6"
      },
      "outputs": [
        {
          "output_type": "stream",
          "name": "stdout",
          "text": [
            "Collecting pyspark\n",
            "  Downloading pyspark-3.5.1.tar.gz (317.0 MB)\n",
            "\u001b[2K     \u001b[90m━━━━━━━━━━━━━━━━━━━━━━━━━━━━━━━━━━━━━━━━\u001b[0m \u001b[32m317.0/317.0 MB\u001b[0m \u001b[31m2.2 MB/s\u001b[0m eta \u001b[36m0:00:00\u001b[0m\n",
            "\u001b[?25h  Preparing metadata (setup.py) ... \u001b[?25l\u001b[?25hdone\n",
            "Requirement already satisfied: py4j==0.10.9.7 in /usr/local/lib/python3.10/dist-packages (from pyspark) (0.10.9.7)\n",
            "Building wheels for collected packages: pyspark\n",
            "  Building wheel for pyspark (setup.py) ... \u001b[?25l\u001b[?25hdone\n",
            "  Created wheel for pyspark: filename=pyspark-3.5.1-py2.py3-none-any.whl size=317488491 sha256=9f04030f92b8ec8f598872062cb29cdf0106dafd1bdae586e46a29d7d257e329\n",
            "  Stored in directory: /root/.cache/pip/wheels/80/1d/60/2c256ed38dddce2fdd93be545214a63e02fbd8d74fb0b7f3a6\n",
            "Successfully built pyspark\n",
            "Installing collected packages: pyspark\n",
            "Successfully installed pyspark-3.5.1\n"
          ]
        }
      ],
      "source": [
        "!pip install pyspark"
      ]
    },
    {
      "cell_type": "code",
      "source": [
        "#creating spark session"
      ],
      "metadata": {
        "id": "T4tXGEHEDHJ_"
      },
      "execution_count": null,
      "outputs": []
    },
    {
      "cell_type": "code",
      "source": [
        "import pandas as pd\n",
        "import numpy as np\n",
        "from pyspark.sql import SparkSession\n",
        "spark = SparkSession.builder.appName('ml-income').getOrCreate()\n",
        "spark"
      ],
      "metadata": {
        "colab": {
          "base_uri": "https://localhost:8080/",
          "height": 219
        },
        "id": "nimQ9y6ScRoo",
        "outputId": "c624bc40-823e-4146-a047-2aa158fb4aa9"
      },
      "execution_count": 3,
      "outputs": [
        {
          "output_type": "execute_result",
          "data": {
            "text/plain": [
              "<pyspark.sql.session.SparkSession at 0x788979cfc220>"
            ],
            "text/html": [
              "\n",
              "            <div>\n",
              "                <p><b>SparkSession - in-memory</b></p>\n",
              "                \n",
              "        <div>\n",
              "            <p><b>SparkContext</b></p>\n",
              "\n",
              "            <p><a href=\"http://55d5efcfb1a9:4040\">Spark UI</a></p>\n",
              "\n",
              "            <dl>\n",
              "              <dt>Version</dt>\n",
              "                <dd><code>v3.5.1</code></dd>\n",
              "              <dt>Master</dt>\n",
              "                <dd><code>local[*]</code></dd>\n",
              "              <dt>AppName</dt>\n",
              "                <dd><code>ml-income</code></dd>\n",
              "            </dl>\n",
              "        </div>\n",
              "        \n",
              "            </div>\n",
              "        "
            ]
          },
          "metadata": {},
          "execution_count": 3
        }
      ]
    },
    {
      "cell_type": "code",
      "source": [
        "#importing required libraries"
      ],
      "metadata": {
        "id": "TupwB88-DMxy"
      },
      "execution_count": null,
      "outputs": []
    },
    {
      "cell_type": "code",
      "source": [
        "\n",
        "from pyspark.ml.feature import StringIndexer\n",
        "from pyspark.ml.feature import VectorAssembler\n",
        "from pyspark.ml import Pipeline\n",
        "from google.colab import files\n",
        "uploaded = files.upload()"
      ],
      "metadata": {
        "colab": {
          "base_uri": "https://localhost:8080/",
          "height": 73
        },
        "id": "YeXK3hEjmgVZ",
        "outputId": "b83b4dc7-0e6b-4442-c2f0-6ed012e4d3fb"
      },
      "execution_count": 4,
      "outputs": [
        {
          "output_type": "display_data",
          "data": {
            "text/plain": [
              "<IPython.core.display.HTML object>"
            ],
            "text/html": [
              "\n",
              "     <input type=\"file\" id=\"files-d8fdea4a-20e0-4454-b03f-24a6256101c4\" name=\"files[]\" multiple disabled\n",
              "        style=\"border:none\" />\n",
              "     <output id=\"result-d8fdea4a-20e0-4454-b03f-24a6256101c4\">\n",
              "      Upload widget is only available when the cell has been executed in the\n",
              "      current browser session. Please rerun this cell to enable.\n",
              "      </output>\n",
              "      <script>// Copyright 2017 Google LLC\n",
              "//\n",
              "// Licensed under the Apache License, Version 2.0 (the \"License\");\n",
              "// you may not use this file except in compliance with the License.\n",
              "// You may obtain a copy of the License at\n",
              "//\n",
              "//      http://www.apache.org/licenses/LICENSE-2.0\n",
              "//\n",
              "// Unless required by applicable law or agreed to in writing, software\n",
              "// distributed under the License is distributed on an \"AS IS\" BASIS,\n",
              "// WITHOUT WARRANTIES OR CONDITIONS OF ANY KIND, either express or implied.\n",
              "// See the License for the specific language governing permissions and\n",
              "// limitations under the License.\n",
              "\n",
              "/**\n",
              " * @fileoverview Helpers for google.colab Python module.\n",
              " */\n",
              "(function(scope) {\n",
              "function span(text, styleAttributes = {}) {\n",
              "  const element = document.createElement('span');\n",
              "  element.textContent = text;\n",
              "  for (const key of Object.keys(styleAttributes)) {\n",
              "    element.style[key] = styleAttributes[key];\n",
              "  }\n",
              "  return element;\n",
              "}\n",
              "\n",
              "// Max number of bytes which will be uploaded at a time.\n",
              "const MAX_PAYLOAD_SIZE = 100 * 1024;\n",
              "\n",
              "function _uploadFiles(inputId, outputId) {\n",
              "  const steps = uploadFilesStep(inputId, outputId);\n",
              "  const outputElement = document.getElementById(outputId);\n",
              "  // Cache steps on the outputElement to make it available for the next call\n",
              "  // to uploadFilesContinue from Python.\n",
              "  outputElement.steps = steps;\n",
              "\n",
              "  return _uploadFilesContinue(outputId);\n",
              "}\n",
              "\n",
              "// This is roughly an async generator (not supported in the browser yet),\n",
              "// where there are multiple asynchronous steps and the Python side is going\n",
              "// to poll for completion of each step.\n",
              "// This uses a Promise to block the python side on completion of each step,\n",
              "// then passes the result of the previous step as the input to the next step.\n",
              "function _uploadFilesContinue(outputId) {\n",
              "  const outputElement = document.getElementById(outputId);\n",
              "  const steps = outputElement.steps;\n",
              "\n",
              "  const next = steps.next(outputElement.lastPromiseValue);\n",
              "  return Promise.resolve(next.value.promise).then((value) => {\n",
              "    // Cache the last promise value to make it available to the next\n",
              "    // step of the generator.\n",
              "    outputElement.lastPromiseValue = value;\n",
              "    return next.value.response;\n",
              "  });\n",
              "}\n",
              "\n",
              "/**\n",
              " * Generator function which is called between each async step of the upload\n",
              " * process.\n",
              " * @param {string} inputId Element ID of the input file picker element.\n",
              " * @param {string} outputId Element ID of the output display.\n",
              " * @return {!Iterable<!Object>} Iterable of next steps.\n",
              " */\n",
              "function* uploadFilesStep(inputId, outputId) {\n",
              "  const inputElement = document.getElementById(inputId);\n",
              "  inputElement.disabled = false;\n",
              "\n",
              "  const outputElement = document.getElementById(outputId);\n",
              "  outputElement.innerHTML = '';\n",
              "\n",
              "  const pickedPromise = new Promise((resolve) => {\n",
              "    inputElement.addEventListener('change', (e) => {\n",
              "      resolve(e.target.files);\n",
              "    });\n",
              "  });\n",
              "\n",
              "  const cancel = document.createElement('button');\n",
              "  inputElement.parentElement.appendChild(cancel);\n",
              "  cancel.textContent = 'Cancel upload';\n",
              "  const cancelPromise = new Promise((resolve) => {\n",
              "    cancel.onclick = () => {\n",
              "      resolve(null);\n",
              "    };\n",
              "  });\n",
              "\n",
              "  // Wait for the user to pick the files.\n",
              "  const files = yield {\n",
              "    promise: Promise.race([pickedPromise, cancelPromise]),\n",
              "    response: {\n",
              "      action: 'starting',\n",
              "    }\n",
              "  };\n",
              "\n",
              "  cancel.remove();\n",
              "\n",
              "  // Disable the input element since further picks are not allowed.\n",
              "  inputElement.disabled = true;\n",
              "\n",
              "  if (!files) {\n",
              "    return {\n",
              "      response: {\n",
              "        action: 'complete',\n",
              "      }\n",
              "    };\n",
              "  }\n",
              "\n",
              "  for (const file of files) {\n",
              "    const li = document.createElement('li');\n",
              "    li.append(span(file.name, {fontWeight: 'bold'}));\n",
              "    li.append(span(\n",
              "        `(${file.type || 'n/a'}) - ${file.size} bytes, ` +\n",
              "        `last modified: ${\n",
              "            file.lastModifiedDate ? file.lastModifiedDate.toLocaleDateString() :\n",
              "                                    'n/a'} - `));\n",
              "    const percent = span('0% done');\n",
              "    li.appendChild(percent);\n",
              "\n",
              "    outputElement.appendChild(li);\n",
              "\n",
              "    const fileDataPromise = new Promise((resolve) => {\n",
              "      const reader = new FileReader();\n",
              "      reader.onload = (e) => {\n",
              "        resolve(e.target.result);\n",
              "      };\n",
              "      reader.readAsArrayBuffer(file);\n",
              "    });\n",
              "    // Wait for the data to be ready.\n",
              "    let fileData = yield {\n",
              "      promise: fileDataPromise,\n",
              "      response: {\n",
              "        action: 'continue',\n",
              "      }\n",
              "    };\n",
              "\n",
              "    // Use a chunked sending to avoid message size limits. See b/62115660.\n",
              "    let position = 0;\n",
              "    do {\n",
              "      const length = Math.min(fileData.byteLength - position, MAX_PAYLOAD_SIZE);\n",
              "      const chunk = new Uint8Array(fileData, position, length);\n",
              "      position += length;\n",
              "\n",
              "      const base64 = btoa(String.fromCharCode.apply(null, chunk));\n",
              "      yield {\n",
              "        response: {\n",
              "          action: 'append',\n",
              "          file: file.name,\n",
              "          data: base64,\n",
              "        },\n",
              "      };\n",
              "\n",
              "      let percentDone = fileData.byteLength === 0 ?\n",
              "          100 :\n",
              "          Math.round((position / fileData.byteLength) * 100);\n",
              "      percent.textContent = `${percentDone}% done`;\n",
              "\n",
              "    } while (position < fileData.byteLength);\n",
              "  }\n",
              "\n",
              "  // All done.\n",
              "  yield {\n",
              "    response: {\n",
              "      action: 'complete',\n",
              "    }\n",
              "  };\n",
              "}\n",
              "\n",
              "scope.google = scope.google || {};\n",
              "scope.google.colab = scope.google.colab || {};\n",
              "scope.google.colab._files = {\n",
              "  _uploadFiles,\n",
              "  _uploadFilesContinue,\n",
              "};\n",
              "})(self);\n",
              "</script> "
            ]
          },
          "metadata": {}
        },
        {
          "output_type": "stream",
          "name": "stdout",
          "text": [
            "Saving income.csv to income.csv\n"
          ]
        }
      ]
    },
    {
      "cell_type": "code",
      "source": [
        "# loading income dataset and droping rows with missing values"
      ],
      "metadata": {
        "id": "8dsy8DmzDS4B"
      },
      "execution_count": null,
      "outputs": []
    },
    {
      "cell_type": "code",
      "source": [
        "df = spark.read.csv('income.csv', header=True, nullValue='?', ignoreLeadingWhiteSpace=True, ignoreTrailingWhiteSpace=True, inferSchema=True)"
      ],
      "metadata": {
        "id": "omHUR3VimyKA"
      },
      "execution_count": 5,
      "outputs": []
    },
    {
      "cell_type": "code",
      "source": [
        "df = df.na.drop()"
      ],
      "metadata": {
        "id": "j0EzUf22nwIP"
      },
      "execution_count": 6,
      "outputs": []
    },
    {
      "cell_type": "code",
      "source": [
        "df.printSchema()\n",
        "df.show(40)"
      ],
      "metadata": {
        "colab": {
          "base_uri": "https://localhost:8080/"
        },
        "collapsed": true,
        "id": "nUONUuExn4ie",
        "outputId": "d21c88ed-4d36-41fb-db86-f47cc7f74fb2"
      },
      "execution_count": 7,
      "outputs": [
        {
          "output_type": "stream",
          "name": "stdout",
          "text": [
            "root\n",
            " |-- age: integer (nullable = true)\n",
            " |-- workclass: string (nullable = true)\n",
            " |-- weight: integer (nullable = true)\n",
            " |-- education: string (nullable = true)\n",
            " |-- education_years: integer (nullable = true)\n",
            " |-- marital_status: string (nullable = true)\n",
            " |-- occupation: string (nullable = true)\n",
            " |-- relationship: string (nullable = true)\n",
            " |-- race: string (nullable = true)\n",
            " |-- sex: string (nullable = true)\n",
            " |-- capital_gain: integer (nullable = true)\n",
            " |-- capital_loss: integer (nullable = true)\n",
            " |-- hours_per_week: integer (nullable = true)\n",
            " |-- citizenship: string (nullable = true)\n",
            " |-- income_class: string (nullable = true)\n",
            "\n",
            "+---+----------------+------+------------+---------------+--------------------+-----------------+-------------+------------------+------+------------+------------+--------------+-------------+------------+\n",
            "|age|       workclass|weight|   education|education_years|      marital_status|       occupation| relationship|              race|   sex|capital_gain|capital_loss|hours_per_week|  citizenship|income_class|\n",
            "+---+----------------+------+------------+---------------+--------------------+-----------------+-------------+------------------+------+------------+------------+--------------+-------------+------------+\n",
            "| 39|       State-gov| 77516|   Bachelors|             13|       Never-married|     Adm-clerical|Not-in-family|             White|  Male|        2174|           0|            40|United-States|       <=50K|\n",
            "| 50|Self-emp-not-inc| 83311|   Bachelors|             13|  Married-civ-spouse|  Exec-managerial|      Husband|             White|  Male|           0|           0|            13|United-States|       <=50K|\n",
            "| 38|         Private|215646|     HS-grad|              9|            Divorced|Handlers-cleaners|Not-in-family|             White|  Male|           0|           0|            40|United-States|       <=50K|\n",
            "| 53|         Private|234721|        11th|              7|  Married-civ-spouse|Handlers-cleaners|      Husband|             Black|  Male|           0|           0|            40|United-States|       <=50K|\n",
            "| 28|         Private|338409|   Bachelors|             13|  Married-civ-spouse|   Prof-specialty|         Wife|             Black|Female|           0|           0|            40|         Cuba|       <=50K|\n",
            "| 37|         Private|284582|     Masters|             14|  Married-civ-spouse|  Exec-managerial|         Wife|             White|Female|           0|           0|            40|United-States|       <=50K|\n",
            "| 49|         Private|160187|         9th|              5|Married-spouse-ab...|    Other-service|Not-in-family|             Black|Female|           0|           0|            16|      Jamaica|       <=50K|\n",
            "| 52|Self-emp-not-inc|209642|     HS-grad|              9|  Married-civ-spouse|  Exec-managerial|      Husband|             White|  Male|           0|           0|            45|United-States|        >50K|\n",
            "| 31|         Private| 45781|     Masters|             14|       Never-married|   Prof-specialty|Not-in-family|             White|Female|       14084|           0|            50|United-States|        >50K|\n",
            "| 42|         Private|159449|   Bachelors|             13|  Married-civ-spouse|  Exec-managerial|      Husband|             White|  Male|        5178|           0|            40|United-States|        >50K|\n",
            "| 37|         Private|280464|Some-college|             10|  Married-civ-spouse|  Exec-managerial|      Husband|             Black|  Male|           0|           0|            80|United-States|        >50K|\n",
            "| 30|       State-gov|141297|   Bachelors|             13|  Married-civ-spouse|   Prof-specialty|      Husband|Asian-Pac-Islander|  Male|           0|           0|            40|        India|        >50K|\n",
            "| 23|         Private|122272|   Bachelors|             13|       Never-married|     Adm-clerical|    Own-child|             White|Female|           0|           0|            30|United-States|       <=50K|\n",
            "| 32|         Private|205019|  Assoc-acdm|             12|       Never-married|            Sales|Not-in-family|             Black|  Male|           0|           0|            50|United-States|       <=50K|\n",
            "| 34|         Private|245487|     7th-8th|              4|  Married-civ-spouse| Transport-moving|      Husband|Amer-Indian-Eskimo|  Male|           0|           0|            45|       Mexico|       <=50K|\n",
            "| 25|Self-emp-not-inc|176756|     HS-grad|              9|       Never-married|  Farming-fishing|    Own-child|             White|  Male|           0|           0|            35|United-States|       <=50K|\n",
            "| 32|         Private|186824|     HS-grad|              9|       Never-married|Machine-op-inspct|    Unmarried|             White|  Male|           0|           0|            40|United-States|       <=50K|\n",
            "| 38|         Private| 28887|        11th|              7|  Married-civ-spouse|            Sales|      Husband|             White|  Male|           0|           0|            50|United-States|       <=50K|\n",
            "| 43|Self-emp-not-inc|292175|     Masters|             14|            Divorced|  Exec-managerial|    Unmarried|             White|Female|           0|           0|            45|United-States|        >50K|\n",
            "| 40|         Private|193524|   Doctorate|             16|  Married-civ-spouse|   Prof-specialty|      Husband|             White|  Male|           0|           0|            60|United-States|        >50K|\n",
            "| 54|         Private|302146|     HS-grad|              9|           Separated|    Other-service|    Unmarried|             Black|Female|           0|           0|            20|United-States|       <=50K|\n",
            "| 35|     Federal-gov| 76845|         9th|              5|  Married-civ-spouse|  Farming-fishing|      Husband|             Black|  Male|           0|           0|            40|United-States|       <=50K|\n",
            "| 43|         Private|117037|        11th|              7|  Married-civ-spouse| Transport-moving|      Husband|             White|  Male|           0|        2042|            40|United-States|       <=50K|\n",
            "| 59|         Private|109015|     HS-grad|              9|            Divorced|     Tech-support|    Unmarried|             White|Female|           0|           0|            40|United-States|       <=50K|\n",
            "| 56|       Local-gov|216851|   Bachelors|             13|  Married-civ-spouse|     Tech-support|      Husband|             White|  Male|           0|           0|            40|United-States|        >50K|\n",
            "| 19|         Private|168294|     HS-grad|              9|       Never-married|     Craft-repair|    Own-child|             White|  Male|           0|           0|            40|United-States|       <=50K|\n",
            "| 39|         Private|367260|     HS-grad|              9|            Divorced|  Exec-managerial|Not-in-family|             White|  Male|           0|           0|            80|United-States|       <=50K|\n",
            "| 49|         Private|193366|     HS-grad|              9|  Married-civ-spouse|     Craft-repair|      Husband|             White|  Male|           0|           0|            40|United-States|       <=50K|\n",
            "| 23|       Local-gov|190709|  Assoc-acdm|             12|       Never-married|  Protective-serv|Not-in-family|             White|  Male|           0|           0|            52|United-States|       <=50K|\n",
            "| 20|         Private|266015|Some-college|             10|       Never-married|            Sales|    Own-child|             Black|  Male|           0|           0|            44|United-States|       <=50K|\n",
            "| 45|         Private|386940|   Bachelors|             13|            Divorced|  Exec-managerial|    Own-child|             White|  Male|           0|        1408|            40|United-States|       <=50K|\n",
            "| 30|     Federal-gov| 59951|Some-college|             10|  Married-civ-spouse|     Adm-clerical|    Own-child|             White|  Male|           0|           0|            40|United-States|       <=50K|\n",
            "| 22|       State-gov|311512|Some-college|             10|  Married-civ-spouse|    Other-service|      Husband|             Black|  Male|           0|           0|            15|United-States|       <=50K|\n",
            "| 48|         Private|242406|        11th|              7|       Never-married|Machine-op-inspct|    Unmarried|             White|  Male|           0|           0|            40|  Puerto-Rico|       <=50K|\n",
            "| 21|         Private|197200|Some-college|             10|       Never-married|Machine-op-inspct|    Own-child|             White|  Male|           0|           0|            40|United-States|       <=50K|\n",
            "| 19|         Private|544091|     HS-grad|              9|   Married-AF-spouse|     Adm-clerical|         Wife|             White|Female|           0|           0|            25|United-States|       <=50K|\n",
            "| 48|Self-emp-not-inc|265477|  Assoc-acdm|             12|  Married-civ-spouse|   Prof-specialty|      Husband|             White|  Male|           0|           0|            40|United-States|       <=50K|\n",
            "| 31|         Private|507875|         9th|              5|  Married-civ-spouse|Machine-op-inspct|      Husband|             White|  Male|           0|           0|            43|United-States|       <=50K|\n",
            "| 53|Self-emp-not-inc| 88506|   Bachelors|             13|  Married-civ-spouse|   Prof-specialty|      Husband|             White|  Male|           0|           0|            40|United-States|       <=50K|\n",
            "| 24|         Private|172987|   Bachelors|             13|  Married-civ-spouse|     Tech-support|      Husband|             White|  Male|           0|           0|            50|United-States|       <=50K|\n",
            "+---+----------------+------+------------+---------------+--------------------+-----------------+-------------+------------------+------+------------+------------+--------------+-------------+------------+\n",
            "only showing top 40 rows\n",
            "\n"
          ]
        }
      ]
    },
    {
      "cell_type": "code",
      "source": [
        "print(df.dtypes)"
      ],
      "metadata": {
        "colab": {
          "base_uri": "https://localhost:8080/"
        },
        "id": "UD1WGkewn-Ry",
        "outputId": "5c499203-c5e5-48c0-d9ed-93b48a2f4130"
      },
      "execution_count": 8,
      "outputs": [
        {
          "output_type": "stream",
          "name": "stdout",
          "text": [
            "[('age', 'int'), ('workclass', 'string'), ('weight', 'int'), ('education', 'string'), ('education_years', 'int'), ('marital_status', 'string'), ('occupation', 'string'), ('relationship', 'string'), ('race', 'string'), ('sex', 'string'), ('capital_gain', 'int'), ('capital_loss', 'int'), ('hours_per_week', 'int'), ('citizenship', 'string'), ('income_class', 'string')]\n"
          ]
        }
      ]
    },
    {
      "cell_type": "code",
      "source": [
        "# converting categorical feature fields into indexes"
      ],
      "metadata": {
        "id": "CBWarjpsDbRn"
      },
      "execution_count": null,
      "outputs": []
    },
    {
      "cell_type": "code",
      "source": [
        "categorical_columns = ['workclass', 'education', 'marital_status', 'occupation', 'relationship', 'race', 'sex', 'citizenship']\n",
        "indexers = [StringIndexer(inputCol=column, outputCol=column + \"_index\") for column in categorical_columns]\n",
        "\n",
        "pipeline = Pipeline(stages=indexers)\n",
        "df = pipeline.fit(df).transform(df)\n",
        "df.show(10)"
      ],
      "metadata": {
        "colab": {
          "base_uri": "https://localhost:8080/"
        },
        "collapsed": true,
        "id": "c-2XGpQGpAU4",
        "outputId": "c0ecb4f9-549b-4134-fbd0-b97aaf59a06d"
      },
      "execution_count": 9,
      "outputs": [
        {
          "output_type": "stream",
          "name": "stdout",
          "text": [
            "+---+----------------+------+---------+---------------+--------------------+-----------------+-------------+-----+------+------------+------------+--------------+-------------+------------+---------------+---------------+--------------------+----------------+------------------+----------+---------+-----------------+\n",
            "|age|       workclass|weight|education|education_years|      marital_status|       occupation| relationship| race|   sex|capital_gain|capital_loss|hours_per_week|  citizenship|income_class|workclass_index|education_index|marital_status_index|occupation_index|relationship_index|race_index|sex_index|citizenship_index|\n",
            "+---+----------------+------+---------+---------------+--------------------+-----------------+-------------+-----+------+------------+------------+--------------+-------------+------------+---------------+---------------+--------------------+----------------+------------------+----------+---------+-----------------+\n",
            "| 39|       State-gov| 77516|Bachelors|             13|       Never-married|     Adm-clerical|Not-in-family|White|  Male|        2174|           0|            40|United-States|       <=50K|            3.0|            2.0|                 1.0|             3.0|               1.0|       0.0|      0.0|              0.0|\n",
            "| 50|Self-emp-not-inc| 83311|Bachelors|             13|  Married-civ-spouse|  Exec-managerial|      Husband|White|  Male|           0|           0|            13|United-States|       <=50K|            1.0|            2.0|                 0.0|             2.0|               0.0|       0.0|      0.0|              0.0|\n",
            "| 38|         Private|215646|  HS-grad|              9|            Divorced|Handlers-cleaners|Not-in-family|White|  Male|           0|           0|            40|United-States|       <=50K|            0.0|            0.0|                 2.0|             8.0|               1.0|       0.0|      0.0|              0.0|\n",
            "| 53|         Private|234721|     11th|              7|  Married-civ-spouse|Handlers-cleaners|      Husband|Black|  Male|           0|           0|            40|United-States|       <=50K|            0.0|            5.0|                 0.0|             8.0|               0.0|       1.0|      0.0|              0.0|\n",
            "| 28|         Private|338409|Bachelors|             13|  Married-civ-spouse|   Prof-specialty|         Wife|Black|Female|           0|           0|            40|         Cuba|       <=50K|            0.0|            2.0|                 0.0|             0.0|               4.0|       1.0|      1.0|              8.0|\n",
            "| 37|         Private|284582|  Masters|             14|  Married-civ-spouse|  Exec-managerial|         Wife|White|Female|           0|           0|            40|United-States|       <=50K|            0.0|            3.0|                 0.0|             2.0|               4.0|       0.0|      1.0|              0.0|\n",
            "| 49|         Private|160187|      9th|              5|Married-spouse-ab...|    Other-service|Not-in-family|Black|Female|           0|           0|            16|      Jamaica|       <=50K|            0.0|           10.0|                 5.0|             5.0|               1.0|       1.0|      1.0|             10.0|\n",
            "| 52|Self-emp-not-inc|209642|  HS-grad|              9|  Married-civ-spouse|  Exec-managerial|      Husband|White|  Male|           0|           0|            45|United-States|        >50K|            1.0|            0.0|                 0.0|             2.0|               0.0|       0.0|      0.0|              0.0|\n",
            "| 31|         Private| 45781|  Masters|             14|       Never-married|   Prof-specialty|Not-in-family|White|Female|       14084|           0|            50|United-States|        >50K|            0.0|            3.0|                 1.0|             0.0|               1.0|       0.0|      1.0|              0.0|\n",
            "| 42|         Private|159449|Bachelors|             13|  Married-civ-spouse|  Exec-managerial|      Husband|White|  Male|        5178|           0|            40|United-States|        >50K|            0.0|            2.0|                 0.0|             2.0|               0.0|       0.0|      0.0|              0.0|\n",
            "+---+----------------+------+---------+---------------+--------------------+-----------------+-------------+-----+------+------------+------------+--------------+-------------+------------+---------------+---------------+--------------------+----------------+------------------+----------+---------+-----------------+\n",
            "only showing top 10 rows\n",
            "\n"
          ]
        }
      ]
    },
    {
      "cell_type": "code",
      "source": [
        "# setting all numerical fields into one feature column"
      ],
      "metadata": {
        "id": "UHRZUa-yEEBb"
      },
      "execution_count": null,
      "outputs": []
    },
    {
      "cell_type": "code",
      "source": [
        "numeric_features = [t[0] for t in df.dtypes if t[1] == 'int']"
      ],
      "metadata": {
        "id": "_eumYj5SqT0L"
      },
      "execution_count": 10,
      "outputs": []
    },
    {
      "cell_type": "code",
      "source": [
        "numeric_columns = ['age', 'workclass_index', 'weight', 'education_index', 'education_years', 'marital_status_index', 'occupation_index', 'relationship_index', 'race_index', 'sex_index', 'capital_gain', 'capital_loss', 'hours_per_week', 'citizenship_index']\n",
        "assembler = VectorAssembler(inputCols = numeric_columns, outputCol = \"features\")\n",
        "df = assembler.transform(df)\n",
        "df.show(10)"
      ],
      "metadata": {
        "colab": {
          "base_uri": "https://localhost:8080/"
        },
        "id": "RSjFvwn7q1rj",
        "outputId": "2ec637b8-6a45-49e2-b024-62f700e2ddcc"
      },
      "execution_count": 11,
      "outputs": [
        {
          "output_type": "stream",
          "name": "stdout",
          "text": [
            "+---+----------------+------+---------+---------------+--------------------+-----------------+-------------+-----+------+------------+------------+--------------+-------------+------------+---------------+---------------+--------------------+----------------+------------------+----------+---------+-----------------+--------------------+\n",
            "|age|       workclass|weight|education|education_years|      marital_status|       occupation| relationship| race|   sex|capital_gain|capital_loss|hours_per_week|  citizenship|income_class|workclass_index|education_index|marital_status_index|occupation_index|relationship_index|race_index|sex_index|citizenship_index|            features|\n",
            "+---+----------------+------+---------+---------------+--------------------+-----------------+-------------+-----+------+------------+------------+--------------+-------------+------------+---------------+---------------+--------------------+----------------+------------------+----------+---------+-----------------+--------------------+\n",
            "| 39|       State-gov| 77516|Bachelors|             13|       Never-married|     Adm-clerical|Not-in-family|White|  Male|        2174|           0|            40|United-States|       <=50K|            3.0|            2.0|                 1.0|             3.0|               1.0|       0.0|      0.0|              0.0|[39.0,3.0,77516.0...|\n",
            "| 50|Self-emp-not-inc| 83311|Bachelors|             13|  Married-civ-spouse|  Exec-managerial|      Husband|White|  Male|           0|           0|            13|United-States|       <=50K|            1.0|            2.0|                 0.0|             2.0|               0.0|       0.0|      0.0|              0.0|(14,[0,1,2,3,4,6,...|\n",
            "| 38|         Private|215646|  HS-grad|              9|            Divorced|Handlers-cleaners|Not-in-family|White|  Male|           0|           0|            40|United-States|       <=50K|            0.0|            0.0|                 2.0|             8.0|               1.0|       0.0|      0.0|              0.0|(14,[0,2,4,5,6,7,...|\n",
            "| 53|         Private|234721|     11th|              7|  Married-civ-spouse|Handlers-cleaners|      Husband|Black|  Male|           0|           0|            40|United-States|       <=50K|            0.0|            5.0|                 0.0|             8.0|               0.0|       1.0|      0.0|              0.0|(14,[0,2,3,4,6,8,...|\n",
            "| 28|         Private|338409|Bachelors|             13|  Married-civ-spouse|   Prof-specialty|         Wife|Black|Female|           0|           0|            40|         Cuba|       <=50K|            0.0|            2.0|                 0.0|             0.0|               4.0|       1.0|      1.0|              8.0|[28.0,0.0,338409....|\n",
            "| 37|         Private|284582|  Masters|             14|  Married-civ-spouse|  Exec-managerial|         Wife|White|Female|           0|           0|            40|United-States|       <=50K|            0.0|            3.0|                 0.0|             2.0|               4.0|       0.0|      1.0|              0.0|(14,[0,2,3,4,6,7,...|\n",
            "| 49|         Private|160187|      9th|              5|Married-spouse-ab...|    Other-service|Not-in-family|Black|Female|           0|           0|            16|      Jamaica|       <=50K|            0.0|           10.0|                 5.0|             5.0|               1.0|       1.0|      1.0|             10.0|[49.0,0.0,160187....|\n",
            "| 52|Self-emp-not-inc|209642|  HS-grad|              9|  Married-civ-spouse|  Exec-managerial|      Husband|White|  Male|           0|           0|            45|United-States|        >50K|            1.0|            0.0|                 0.0|             2.0|               0.0|       0.0|      0.0|              0.0|(14,[0,1,2,4,6,12...|\n",
            "| 31|         Private| 45781|  Masters|             14|       Never-married|   Prof-specialty|Not-in-family|White|Female|       14084|           0|            50|United-States|        >50K|            0.0|            3.0|                 1.0|             0.0|               1.0|       0.0|      1.0|              0.0|[31.0,0.0,45781.0...|\n",
            "| 42|         Private|159449|Bachelors|             13|  Married-civ-spouse|  Exec-managerial|      Husband|White|  Male|        5178|           0|            40|United-States|        >50K|            0.0|            2.0|                 0.0|             2.0|               0.0|       0.0|      0.0|              0.0|(14,[0,2,3,4,6,10...|\n",
            "+---+----------------+------+---------+---------------+--------------------+-----------------+-------------+-----+------+------------+------------+--------------+-------------+------------+---------------+---------------+--------------------+----------------+------------------+----------+---------+-----------------+--------------------+\n",
            "only showing top 10 rows\n",
            "\n"
          ]
        }
      ]
    },
    {
      "cell_type": "code",
      "source": [
        "# converting target column into indexes"
      ],
      "metadata": {
        "id": "vcrlDy7FEZDa"
      },
      "execution_count": null,
      "outputs": []
    },
    {
      "cell_type": "code",
      "source": [
        "labels = StringIndexer(inputCol='income_class', outputCol ='income_class_index')\n",
        "df = labels.fit(df).transform(df)\n",
        "df.show(10)"
      ],
      "metadata": {
        "colab": {
          "base_uri": "https://localhost:8080/"
        },
        "id": "vZDbMXGUuoeW",
        "outputId": "3ad6cce8-80ad-46d0-ac41-b680fa5edcd1"
      },
      "execution_count": 12,
      "outputs": [
        {
          "output_type": "stream",
          "name": "stdout",
          "text": [
            "+---+----------------+------+---------+---------------+--------------------+-----------------+-------------+-----+------+------------+------------+--------------+-------------+------------+---------------+---------------+--------------------+----------------+------------------+----------+---------+-----------------+--------------------+------------------+\n",
            "|age|       workclass|weight|education|education_years|      marital_status|       occupation| relationship| race|   sex|capital_gain|capital_loss|hours_per_week|  citizenship|income_class|workclass_index|education_index|marital_status_index|occupation_index|relationship_index|race_index|sex_index|citizenship_index|            features|income_class_index|\n",
            "+---+----------------+------+---------+---------------+--------------------+-----------------+-------------+-----+------+------------+------------+--------------+-------------+------------+---------------+---------------+--------------------+----------------+------------------+----------+---------+-----------------+--------------------+------------------+\n",
            "| 39|       State-gov| 77516|Bachelors|             13|       Never-married|     Adm-clerical|Not-in-family|White|  Male|        2174|           0|            40|United-States|       <=50K|            3.0|            2.0|                 1.0|             3.0|               1.0|       0.0|      0.0|              0.0|[39.0,3.0,77516.0...|               0.0|\n",
            "| 50|Self-emp-not-inc| 83311|Bachelors|             13|  Married-civ-spouse|  Exec-managerial|      Husband|White|  Male|           0|           0|            13|United-States|       <=50K|            1.0|            2.0|                 0.0|             2.0|               0.0|       0.0|      0.0|              0.0|(14,[0,1,2,3,4,6,...|               0.0|\n",
            "| 38|         Private|215646|  HS-grad|              9|            Divorced|Handlers-cleaners|Not-in-family|White|  Male|           0|           0|            40|United-States|       <=50K|            0.0|            0.0|                 2.0|             8.0|               1.0|       0.0|      0.0|              0.0|(14,[0,2,4,5,6,7,...|               0.0|\n",
            "| 53|         Private|234721|     11th|              7|  Married-civ-spouse|Handlers-cleaners|      Husband|Black|  Male|           0|           0|            40|United-States|       <=50K|            0.0|            5.0|                 0.0|             8.0|               0.0|       1.0|      0.0|              0.0|(14,[0,2,3,4,6,8,...|               0.0|\n",
            "| 28|         Private|338409|Bachelors|             13|  Married-civ-spouse|   Prof-specialty|         Wife|Black|Female|           0|           0|            40|         Cuba|       <=50K|            0.0|            2.0|                 0.0|             0.0|               4.0|       1.0|      1.0|              8.0|[28.0,0.0,338409....|               0.0|\n",
            "| 37|         Private|284582|  Masters|             14|  Married-civ-spouse|  Exec-managerial|         Wife|White|Female|           0|           0|            40|United-States|       <=50K|            0.0|            3.0|                 0.0|             2.0|               4.0|       0.0|      1.0|              0.0|(14,[0,2,3,4,6,7,...|               0.0|\n",
            "| 49|         Private|160187|      9th|              5|Married-spouse-ab...|    Other-service|Not-in-family|Black|Female|           0|           0|            16|      Jamaica|       <=50K|            0.0|           10.0|                 5.0|             5.0|               1.0|       1.0|      1.0|             10.0|[49.0,0.0,160187....|               0.0|\n",
            "| 52|Self-emp-not-inc|209642|  HS-grad|              9|  Married-civ-spouse|  Exec-managerial|      Husband|White|  Male|           0|           0|            45|United-States|        >50K|            1.0|            0.0|                 0.0|             2.0|               0.0|       0.0|      0.0|              0.0|(14,[0,1,2,4,6,12...|               1.0|\n",
            "| 31|         Private| 45781|  Masters|             14|       Never-married|   Prof-specialty|Not-in-family|White|Female|       14084|           0|            50|United-States|        >50K|            0.0|            3.0|                 1.0|             0.0|               1.0|       0.0|      1.0|              0.0|[31.0,0.0,45781.0...|               1.0|\n",
            "| 42|         Private|159449|Bachelors|             13|  Married-civ-spouse|  Exec-managerial|      Husband|White|  Male|        5178|           0|            40|United-States|        >50K|            0.0|            2.0|                 0.0|             2.0|               0.0|       0.0|      0.0|              0.0|(14,[0,2,3,4,6,10...|               1.0|\n",
            "+---+----------------+------+---------+---------------+--------------------+-----------------+-------------+-----+------+------------+------------+--------------+-------------+------------+---------------+---------------+--------------------+----------------+------------------+----------+---------+-----------------+--------------------+------------------+\n",
            "only showing top 10 rows\n",
            "\n"
          ]
        }
      ]
    },
    {
      "cell_type": "code",
      "source": [
        "print(pd.DataFrame(df.take(100), columns=df.columns))"
      ],
      "metadata": {
        "colab": {
          "base_uri": "https://localhost:8080/"
        },
        "collapsed": true,
        "id": "-ryxd01tvEPL",
        "outputId": "92d23384-4c68-4b1e-833f-3a781d2ef6b1"
      },
      "execution_count": 13,
      "outputs": [
        {
          "output_type": "stream",
          "name": "stdout",
          "text": [
            "    age         workclass  weight     education  education_years  \\\n",
            "0    39         State-gov   77516     Bachelors               13   \n",
            "1    50  Self-emp-not-inc   83311     Bachelors               13   \n",
            "2    38           Private  215646       HS-grad                9   \n",
            "3    53           Private  234721          11th                7   \n",
            "4    28           Private  338409     Bachelors               13   \n",
            "..  ...               ...     ...           ...              ...   \n",
            "95   20           Private  188300  Some-college               10   \n",
            "96   29           Private  103432       HS-grad                9   \n",
            "97   32      Self-emp-inc  317660       HS-grad                9   \n",
            "98   30           Private  194901          11th                7   \n",
            "99   31         Local-gov  189265       HS-grad                9   \n",
            "\n",
            "        marital_status         occupation   relationship   race     sex  ...  \\\n",
            "0        Never-married       Adm-clerical  Not-in-family  White    Male  ...   \n",
            "1   Married-civ-spouse    Exec-managerial        Husband  White    Male  ...   \n",
            "2             Divorced  Handlers-cleaners  Not-in-family  White    Male  ...   \n",
            "3   Married-civ-spouse  Handlers-cleaners        Husband  Black    Male  ...   \n",
            "4   Married-civ-spouse     Prof-specialty           Wife  Black  Female  ...   \n",
            "..                 ...                ...            ...    ...     ...  ...   \n",
            "95       Never-married       Tech-support      Own-child  White  Female  ...   \n",
            "96       Never-married       Craft-repair  Not-in-family  White    Male  ...   \n",
            "97  Married-civ-spouse       Craft-repair        Husband  White    Male  ...   \n",
            "98       Never-married  Handlers-cleaners      Own-child  White    Male  ...   \n",
            "99       Never-married       Adm-clerical  Not-in-family  White  Female  ...   \n",
            "\n",
            "    workclass_index  education_index  marital_status_index occupation_index  \\\n",
            "0               3.0              2.0                   1.0              3.0   \n",
            "1               1.0              2.0                   0.0              2.0   \n",
            "2               0.0              0.0                   2.0              8.0   \n",
            "3               0.0              5.0                   0.0              8.0   \n",
            "4               0.0              2.0                   0.0              0.0   \n",
            "..              ...              ...                   ...              ...   \n",
            "95              0.0              1.0                   1.0             10.0   \n",
            "96              0.0              0.0                   1.0              1.0   \n",
            "97              4.0              0.0                   0.0              1.0   \n",
            "98              0.0              5.0                   1.0              8.0   \n",
            "99              2.0              0.0                   1.0              3.0   \n",
            "\n",
            "   relationship_index  race_index  sex_index  citizenship_index  \\\n",
            "0                 1.0         0.0        0.0                0.0   \n",
            "1                 0.0         0.0        0.0                0.0   \n",
            "2                 1.0         0.0        0.0                0.0   \n",
            "3                 0.0         1.0        0.0                0.0   \n",
            "4                 4.0         1.0        1.0                8.0   \n",
            "..                ...         ...        ...                ...   \n",
            "95                2.0         0.0        1.0                0.0   \n",
            "96                1.0         0.0        0.0                0.0   \n",
            "97                0.0         0.0        0.0                0.0   \n",
            "98                2.0         0.0        0.0                0.0   \n",
            "99                1.0         0.0        1.0                0.0   \n",
            "\n",
            "                                             features  income_class_index  \n",
            "0   [39.0, 3.0, 77516.0, 2.0, 13.0, 1.0, 3.0, 1.0,...                 0.0  \n",
            "1   (50.0, 1.0, 83311.0, 2.0, 13.0, 0.0, 2.0, 0.0,...                 0.0  \n",
            "2   (38.0, 0.0, 215646.0, 0.0, 9.0, 2.0, 8.0, 1.0,...                 0.0  \n",
            "3   (53.0, 0.0, 234721.0, 5.0, 7.0, 0.0, 8.0, 0.0,...                 0.0  \n",
            "4   [28.0, 0.0, 338409.0, 2.0, 13.0, 0.0, 0.0, 4.0...                 0.0  \n",
            "..                                                ...                 ...  \n",
            "95  [20.0, 0.0, 188300.0, 1.0, 10.0, 1.0, 10.0, 2....                 0.0  \n",
            "96  (29.0, 0.0, 103432.0, 0.0, 9.0, 1.0, 1.0, 1.0,...                 0.0  \n",
            "97  (32.0, 4.0, 317660.0, 0.0, 9.0, 0.0, 1.0, 0.0,...                 1.0  \n",
            "98  (30.0, 0.0, 194901.0, 5.0, 7.0, 1.0, 8.0, 2.0,...                 0.0  \n",
            "99  [31.0, 2.0, 189265.0, 0.0, 9.0, 1.0, 3.0, 1.0,...                 0.0  \n",
            "\n",
            "[100 rows x 25 columns]\n"
          ]
        }
      ]
    },
    {
      "cell_type": "code",
      "source": [
        "# splitting dataset into training and testing set"
      ],
      "metadata": {
        "id": "0RjhJU65Evyj"
      },
      "execution_count": null,
      "outputs": []
    },
    {
      "cell_type": "code",
      "source": [
        "train, test = df.randomSplit([0.7, 0.3])\n",
        "print('Train Size:' +str(train.count()))\n",
        "print('Test Size:' +str(test.count()))"
      ],
      "metadata": {
        "colab": {
          "base_uri": "https://localhost:8080/"
        },
        "id": "2ypw4XeqvVIj",
        "outputId": "b7788ada-ebd1-45d9-8bac-62acab784731"
      },
      "execution_count": 14,
      "outputs": [
        {
          "output_type": "stream",
          "name": "stdout",
          "text": [
            "Train Size:20938\n",
            "Test Size:9224\n"
          ]
        }
      ]
    },
    {
      "cell_type": "code",
      "source": [
        "from pyspark.ml.classification import RandomForestClassifier"
      ],
      "metadata": {
        "id": "mpcj-fW0ywZI"
      },
      "execution_count": 15,
      "outputs": []
    },
    {
      "cell_type": "code",
      "source": [
        "# define Random Forest Classifier, fit model on train set and predict"
      ],
      "metadata": {
        "id": "7qYBLKYoE88s"
      },
      "execution_count": null,
      "outputs": []
    },
    {
      "cell_type": "code",
      "source": [
        "rf = RandomForestClassifier(featuresCol = 'features', labelCol = 'income_class_index', maxBins=41)\n",
        "rfModel = rf.fit(train)"
      ],
      "metadata": {
        "id": "YFKDxoBCzt91"
      },
      "execution_count": 16,
      "outputs": []
    },
    {
      "cell_type": "code",
      "source": [
        "predictions = rfModel.transform(test)\n",
        "predictions.select('age', 'workclass_index', 'weight', 'education_index', 'education_years', 'marital_status_index', 'occupation_index', 'relationship_index', 'race_index', 'sex_index', 'capital_gain', 'capital_loss', 'hours_per_week', 'citizenship_index', 'income_class_index', 'prediction', 'rawPrediction', 'probability').show(25)"
      ],
      "metadata": {
        "colab": {
          "base_uri": "https://localhost:8080/"
        },
        "collapsed": true,
        "id": "eBszYYwm0xls",
        "outputId": "f0349768-f8da-4bce-86fc-89b89b2e547a"
      },
      "execution_count": 17,
      "outputs": [
        {
          "output_type": "stream",
          "name": "stdout",
          "text": [
            "+---+---------------+------+---------------+---------------+--------------------+----------------+------------------+----------+---------+------------+------------+--------------+-----------------+------------------+----------+--------------------+--------------------+\n",
            "|age|workclass_index|weight|education_index|education_years|marital_status_index|occupation_index|relationship_index|race_index|sex_index|capital_gain|capital_loss|hours_per_week|citizenship_index|income_class_index|prediction|       rawPrediction|         probability|\n",
            "+---+---------------+------+---------------+---------------+--------------------+----------------+------------------+----------+---------+------------+------------+--------------+-----------------+------------------+----------+--------------------+--------------------+\n",
            "| 17|            2.0|148194|            5.0|              7|                 1.0|             3.0|               2.0|       0.0|      1.0|           0|           0|            12|              0.0|               0.0|       0.0|[19.0597440781862...|[0.95298720390931...|\n",
            "| 17|            2.0|170916|            7.0|              6|                 1.0|            11.0|               2.0|       0.0|      1.0|           0|        1602|            40|              0.0|               0.0|       0.0|[19.0597440781862...|[0.95298720390931...|\n",
            "| 17|            2.0|191910|            5.0|              7|                 1.0|             4.0|               2.0|       0.0|      0.0|           0|           0|            20|              0.0|               0.0|       0.0|[18.9851264606950...|[0.94925632303475...|\n",
            "| 17|            2.0|244856|            5.0|              7|                 1.0|             0.0|               2.0|       0.0|      1.0|           0|           0|            40|              0.0|               0.0|       0.0|[18.7497735277948...|[0.93748867638974...|\n",
            "| 17|            2.0|340043|           11.0|              8|                 1.0|             3.0|               2.0|       0.0|      1.0|           0|           0|            12|              0.0|               0.0|       0.0|[19.0597440781862...|[0.95298720390931...|\n",
            "| 17|            0.0| 24090|            0.0|              9|                 1.0|             2.0|               2.0|       0.0|      1.0|           0|           0|            35|              0.0|               0.0|       0.0|[18.7322807392715...|[0.93661403696357...|\n",
            "| 17|            0.0| 25690|            7.0|              6|                 1.0|             5.0|               2.0|       0.0|      1.0|           0|           0|            10|              0.0|               0.0|       0.0|[19.1104084366582...|[0.95552042183291...|\n",
            "| 17|            0.0| 28031|           10.0|              5|                 1.0|             5.0|               2.0|       0.0|      0.0|           0|           0|            16|              0.0|               0.0|       0.0|[19.0357908191670...|[0.95178954095835...|\n",
            "| 17|            0.0| 31007|            7.0|              6|                 1.0|             5.0|               2.0|       0.0|      1.0|           0|           0|            30|              0.0|               0.0|       0.0|[19.1104084366582...|[0.95552042183291...|\n",
            "| 17|            0.0| 34019|            5.0|              7|                 1.0|             5.0|               2.0|       0.0|      0.0|           0|           0|            20|              0.0|               0.0|       0.0|[19.0357908191670...|[0.95178954095835...|\n",
            "| 17|            0.0| 38611|            5.0|              7|                 1.0|             3.0|               2.0|       0.0|      1.0|           0|           0|            23|              0.0|               0.0|       0.0|[19.0619658458250...|[0.95309829229125...|\n",
            "| 17|            0.0| 46496|            5.0|              7|                 1.0|             5.0|               2.0|       0.0|      0.0|           0|           0|             5|              0.0|               0.0|       0.0|[19.0357908191670...|[0.95178954095835...|\n",
            "| 17|            0.0| 54257|            5.0|              7|                 1.0|             3.0|               2.0|       0.0|      1.0|           0|           0|            20|              0.0|               0.0|       0.0|[19.0619658458250...|[0.95309829229125...|\n",
            "| 17|            0.0| 57723|            5.0|              7|                 1.0|             4.0|               2.0|       0.0|      0.0|           0|           0|            30|              0.0|               0.0|       0.0|[18.9873482283338...|[0.94936741141669...|\n",
            "| 17|            0.0| 63734|            7.0|              6|                 1.0|             8.0|               2.0|       0.0|      0.0|           0|           0|            20|              0.0|               0.0|       0.0|[19.0357908191670...|[0.95178954095835...|\n",
            "| 17|            0.0| 73145|           10.0|              5|                 1.0|             1.0|               2.0|       0.0|      1.0|           0|           0|            16|              0.0|               0.0|       0.0|[19.0619658458250...|[0.95309829229125...|\n",
            "| 17|            0.0| 79682|            7.0|              6|                 1.0|            12.0|               5.0|       0.0|      0.0|           0|           0|            30|              0.0|               0.0|       0.0|[19.0357908191670...|[0.95178954095835...|\n",
            "| 17|            0.0| 95799|            5.0|              7|                 1.0|             4.0|               2.0|       0.0|      1.0|           0|           0|            18|              0.0|               0.0|       0.0|[19.0619658458250...|[0.95309829229125...|\n",
            "| 17|            0.0| 95909|            5.0|              7|                 1.0|             8.0|               2.0|       0.0|      0.0|           0|           0|            12|              0.0|               0.0|       0.0|[19.0357908191670...|[0.95178954095835...|\n",
            "| 17|            0.0| 98005|            5.0|              7|                 1.0|             4.0|               2.0|       0.0|      1.0|           0|           0|            16|              0.0|               0.0|       0.0|[19.0619658458250...|[0.95309829229125...|\n",
            "| 17|            0.0| 98675|           10.0|              5|                 1.0|             5.0|               3.0|       0.0|      1.0|           0|           0|            20|              0.0|               0.0|       0.0|[19.1104084366582...|[0.95552042183291...|\n",
            "| 17|            0.0| 99161|            7.0|              6|                 1.0|             5.0|               2.0|       0.0|      0.0|           0|           0|             8|              0.0|               0.0|       0.0|[19.0357908191670...|[0.95178954095835...|\n",
            "| 17|            0.0|102726|           11.0|              8|                 1.0|             5.0|               2.0|       0.0|      0.0|           0|           0|            16|              0.0|               0.0|       0.0|[19.0357908191670...|[0.95178954095835...|\n",
            "| 17|            0.0|103851|            5.0|              7|                 1.0|             3.0|               2.0|       0.0|      1.0|        1055|           0|            20|              0.0|               0.0|       0.0|[19.0619658458250...|[0.95309829229125...|\n",
            "| 17|            0.0|108909|            0.0|              9|                 1.0|             4.0|               2.0|       0.0|      1.0|           0|           0|            20|              0.0|               0.0|       0.0|[19.0619658458250...|[0.95309829229125...|\n",
            "+---+---------------+------+---------------+---------------+--------------------+----------------+------------------+----------+---------+------------+------------+--------------+-----------------+------------------+----------+--------------------+--------------------+\n",
            "only showing top 25 rows\n",
            "\n"
          ]
        }
      ]
    },
    {
      "cell_type": "code",
      "source": [
        "from pyspark.ml.evaluation import MulticlassClassificationEvaluator\n",
        "from pyspark.ml.classification import DecisionTreeClassifier"
      ],
      "metadata": {
        "id": "CfyLBnEd2mSv"
      },
      "execution_count": 18,
      "outputs": []
    },
    {
      "cell_type": "code",
      "source": [
        "# define Decision Tree Classifier, fit model on train set and predict"
      ],
      "metadata": {
        "id": "po4E9rNfFKA3"
      },
      "execution_count": null,
      "outputs": []
    },
    {
      "cell_type": "code",
      "source": [
        "dt = DecisionTreeClassifier(featuresCol = 'features', labelCol = 'income_class_index', maxBins=41)\n",
        "dtModel = dt.fit(train)"
      ],
      "metadata": {
        "id": "prA4d4Y46WEl"
      },
      "execution_count": 22,
      "outputs": []
    },
    {
      "cell_type": "code",
      "source": [
        "dtPredictions = dtModel.transform(test)\n",
        "dtPredictions.select('age', 'workclass_index', 'weight', 'education_index', 'education_years', 'marital_status_index', 'occupation_index', 'relationship_index', 'race_index', 'sex_index', 'capital_gain', 'capital_loss', 'hours_per_week', 'citizenship_index', 'income_class_index', 'Prediction', 'rawPrediction', 'Probability').show(25)"
      ],
      "metadata": {
        "colab": {
          "base_uri": "https://localhost:8080/"
        },
        "collapsed": true,
        "id": "g7j5oyPd4-fG",
        "outputId": "aa757104-f836-46c4-db7f-b982fb850f37"
      },
      "execution_count": 23,
      "outputs": [
        {
          "output_type": "stream",
          "name": "stdout",
          "text": [
            "+---+---------------+------+---------------+---------------+--------------------+----------------+------------------+----------+---------+------------+------------+--------------+-----------------+------------------+----------+---------------+--------------------+\n",
            "|age|workclass_index|weight|education_index|education_years|marital_status_index|occupation_index|relationship_index|race_index|sex_index|capital_gain|capital_loss|hours_per_week|citizenship_index|income_class_index|Prediction|  rawPrediction|         Probability|\n",
            "+---+---------------+------+---------------+---------------+--------------------+----------------+------------------+----------+---------+------------+------------+--------------+-----------------+------------------+----------+---------------+--------------------+\n",
            "| 17|            2.0|148194|            5.0|              7|                 1.0|             3.0|               2.0|       0.0|      1.0|           0|           0|            12|              0.0|               0.0|       0.0|[10422.0,549.0]|[0.94995898277276...|\n",
            "| 17|            2.0|170916|            7.0|              6|                 1.0|            11.0|               2.0|       0.0|      1.0|           0|        1602|            40|              0.0|               0.0|       0.0|[10422.0,549.0]|[0.94995898277276...|\n",
            "| 17|            2.0|191910|            5.0|              7|                 1.0|             4.0|               2.0|       0.0|      0.0|           0|           0|            20|              0.0|               0.0|       0.0|[10422.0,549.0]|[0.94995898277276...|\n",
            "| 17|            2.0|244856|            5.0|              7|                 1.0|             0.0|               2.0|       0.0|      1.0|           0|           0|            40|              0.0|               0.0|       0.0|[10422.0,549.0]|[0.94995898277276...|\n",
            "| 17|            2.0|340043|           11.0|              8|                 1.0|             3.0|               2.0|       0.0|      1.0|           0|           0|            12|              0.0|               0.0|       0.0|[10422.0,549.0]|[0.94995898277276...|\n",
            "| 17|            0.0| 24090|            0.0|              9|                 1.0|             2.0|               2.0|       0.0|      1.0|           0|           0|            35|              0.0|               0.0|       0.0|[10422.0,549.0]|[0.94995898277276...|\n",
            "| 17|            0.0| 25690|            7.0|              6|                 1.0|             5.0|               2.0|       0.0|      1.0|           0|           0|            10|              0.0|               0.0|       0.0|[10422.0,549.0]|[0.94995898277276...|\n",
            "| 17|            0.0| 28031|           10.0|              5|                 1.0|             5.0|               2.0|       0.0|      0.0|           0|           0|            16|              0.0|               0.0|       0.0|[10422.0,549.0]|[0.94995898277276...|\n",
            "| 17|            0.0| 31007|            7.0|              6|                 1.0|             5.0|               2.0|       0.0|      1.0|           0|           0|            30|              0.0|               0.0|       0.0|[10422.0,549.0]|[0.94995898277276...|\n",
            "| 17|            0.0| 34019|            5.0|              7|                 1.0|             5.0|               2.0|       0.0|      0.0|           0|           0|            20|              0.0|               0.0|       0.0|[10422.0,549.0]|[0.94995898277276...|\n",
            "| 17|            0.0| 38611|            5.0|              7|                 1.0|             3.0|               2.0|       0.0|      1.0|           0|           0|            23|              0.0|               0.0|       0.0|[10422.0,549.0]|[0.94995898277276...|\n",
            "| 17|            0.0| 46496|            5.0|              7|                 1.0|             5.0|               2.0|       0.0|      0.0|           0|           0|             5|              0.0|               0.0|       0.0|[10422.0,549.0]|[0.94995898277276...|\n",
            "| 17|            0.0| 54257|            5.0|              7|                 1.0|             3.0|               2.0|       0.0|      1.0|           0|           0|            20|              0.0|               0.0|       0.0|[10422.0,549.0]|[0.94995898277276...|\n",
            "| 17|            0.0| 57723|            5.0|              7|                 1.0|             4.0|               2.0|       0.0|      0.0|           0|           0|            30|              0.0|               0.0|       0.0|[10422.0,549.0]|[0.94995898277276...|\n",
            "| 17|            0.0| 63734|            7.0|              6|                 1.0|             8.0|               2.0|       0.0|      0.0|           0|           0|            20|              0.0|               0.0|       0.0|[10422.0,549.0]|[0.94995898277276...|\n",
            "| 17|            0.0| 73145|           10.0|              5|                 1.0|             1.0|               2.0|       0.0|      1.0|           0|           0|            16|              0.0|               0.0|       0.0|[10422.0,549.0]|[0.94995898277276...|\n",
            "| 17|            0.0| 79682|            7.0|              6|                 1.0|            12.0|               5.0|       0.0|      0.0|           0|           0|            30|              0.0|               0.0|       0.0|[10422.0,549.0]|[0.94995898277276...|\n",
            "| 17|            0.0| 95799|            5.0|              7|                 1.0|             4.0|               2.0|       0.0|      1.0|           0|           0|            18|              0.0|               0.0|       0.0|[10422.0,549.0]|[0.94995898277276...|\n",
            "| 17|            0.0| 95909|            5.0|              7|                 1.0|             8.0|               2.0|       0.0|      0.0|           0|           0|            12|              0.0|               0.0|       0.0|[10422.0,549.0]|[0.94995898277276...|\n",
            "| 17|            0.0| 98005|            5.0|              7|                 1.0|             4.0|               2.0|       0.0|      1.0|           0|           0|            16|              0.0|               0.0|       0.0|[10422.0,549.0]|[0.94995898277276...|\n",
            "| 17|            0.0| 98675|           10.0|              5|                 1.0|             5.0|               3.0|       0.0|      1.0|           0|           0|            20|              0.0|               0.0|       0.0|[10422.0,549.0]|[0.94995898277276...|\n",
            "| 17|            0.0| 99161|            7.0|              6|                 1.0|             5.0|               2.0|       0.0|      0.0|           0|           0|             8|              0.0|               0.0|       0.0|[10422.0,549.0]|[0.94995898277276...|\n",
            "| 17|            0.0|102726|           11.0|              8|                 1.0|             5.0|               2.0|       0.0|      0.0|           0|           0|            16|              0.0|               0.0|       0.0|[10422.0,549.0]|[0.94995898277276...|\n",
            "| 17|            0.0|103851|            5.0|              7|                 1.0|             3.0|               2.0|       0.0|      1.0|        1055|           0|            20|              0.0|               0.0|       0.0|[10422.0,549.0]|[0.94995898277276...|\n",
            "| 17|            0.0|108909|            0.0|              9|                 1.0|             4.0|               2.0|       0.0|      1.0|           0|           0|            20|              0.0|               0.0|       0.0|[10422.0,549.0]|[0.94995898277276...|\n",
            "+---+---------------+------+---------------+---------------+--------------------+----------------+------------------+----------+---------+------------+------------+--------------+-----------------+------------------+----------+---------------+--------------------+\n",
            "only showing top 25 rows\n",
            "\n"
          ]
        }
      ]
    },
    {
      "cell_type": "code",
      "source": [
        "# define evaluator and calculate accuracies for RT and DT Classifier"
      ],
      "metadata": {
        "id": "e4Qz7vc9FOdO"
      },
      "execution_count": null,
      "outputs": []
    },
    {
      "cell_type": "code",
      "source": [
        "evaluator = MulticlassClassificationEvaluator(labelCol = 'income_class_index', predictionCol = 'prediction')"
      ],
      "metadata": {
        "id": "uhrYPe2W5jhp"
      },
      "execution_count": 19,
      "outputs": []
    },
    {
      "cell_type": "code",
      "source": [
        "accuracy_rt = evaluator.evaluate(predictions)"
      ],
      "metadata": {
        "id": "Rw-PARKz9Mr-"
      },
      "execution_count": 20,
      "outputs": []
    },
    {
      "cell_type": "code",
      "source": [
        "accuracy_dt = evaluator.evaluate(dtPredictions)"
      ],
      "metadata": {
        "id": "xeHGEnV_9RBw"
      },
      "execution_count": 24,
      "outputs": []
    },
    {
      "cell_type": "code",
      "source": [
        "print('Random Forest Accuracy: %s' % (accuracy_rt))\n",
        "print('Random Forest Error: %s' % (1.0 - accuracy_rt))\n",
        "\n",
        "print('Decision Tree Accuracy: %s' % (accuracy_dt))\n",
        "print('Decision Tree Error: %s' % (1.0 - accuracy_dt))"
      ],
      "metadata": {
        "colab": {
          "base_uri": "https://localhost:8080/"
        },
        "id": "sQXaADhF9SUA",
        "outputId": "3623cc69-a7eb-4f8e-bb0a-af56709ded4e"
      },
      "execution_count": 25,
      "outputs": [
        {
          "output_type": "stream",
          "name": "stdout",
          "text": [
            "Random Forest Accuracy: 0.8181978017736984\n",
            "Random Forest Error: 0.18180219822630161\n",
            "Decision Tree Accuracy: 0.8152679967638465\n",
            "Decision Tree Error: 0.18473200323615346\n"
          ]
        }
      ]
    },
    {
      "cell_type": "code",
      "source": [
        "from pyspark.mllib.evaluation import MulticlassMetrics\n",
        "from pyspark.sql.types import FloatType\n",
        "import pyspark.sql.functions as F"
      ],
      "metadata": {
        "id": "HNc9muGSAGTt"
      },
      "execution_count": 26,
      "outputs": []
    },
    {
      "cell_type": "code",
      "source": [
        "# define confusion matrix"
      ],
      "metadata": {
        "id": "-ehfNxZNGNp2"
      },
      "execution_count": null,
      "outputs": []
    },
    {
      "cell_type": "code",
      "source": [
        "preds = predictions.select(['prediction', 'income_class_index']).withColumn('income_class_index', F.col('income_class_index').cast(FloatType()))\n",
        "preds = preds.select(['prediction', 'income_class_index'])\n",
        "metrics = MulticlassMetrics(preds.rdd.map(tuple))\n",
        "print(metrics.confusionMatrix().toArray())"
      ],
      "metadata": {
        "colab": {
          "base_uri": "https://localhost:8080/"
        },
        "id": "CVVhWiIz-1Re",
        "outputId": "af8d186f-baef-4304-8df3-660abc843cf9"
      },
      "execution_count": 27,
      "outputs": [
        {
          "output_type": "stream",
          "name": "stderr",
          "text": [
            "/usr/local/lib/python3.10/dist-packages/pyspark/sql/context.py:158: FutureWarning: Deprecated in 3.0.0. Use SparkSession.builder.getOrCreate() instead.\n",
            "  warnings.warn(\n"
          ]
        },
        {
          "output_type": "stream",
          "name": "stdout",
          "text": [
            "[[6581.  237.]\n",
            " [1283. 1123.]]\n"
          ]
        }
      ]
    },
    {
      "cell_type": "code",
      "source": [],
      "metadata": {
        "id": "Ax71P8bmAN0e"
      },
      "execution_count": null,
      "outputs": []
    }
  ]
}